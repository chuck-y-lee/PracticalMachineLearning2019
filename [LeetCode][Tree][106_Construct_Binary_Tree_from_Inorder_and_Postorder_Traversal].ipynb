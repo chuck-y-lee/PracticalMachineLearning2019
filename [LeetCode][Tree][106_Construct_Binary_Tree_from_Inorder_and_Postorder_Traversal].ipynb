{
  "nbformat": 4,
  "nbformat_minor": 0,
  "metadata": {
    "colab": {
      "name": "[LeetCode][Tree][106. Construct Binary Tree from Inorder and Postorder Traversal].ipynb",
      "provenance": [],
      "collapsed_sections": [],
      "authorship_tag": "ABX9TyPRKKFYPRCmP11vZZDJGdNY",
      "include_colab_link": true
    },
    "kernelspec": {
      "name": "python3",
      "display_name": "Python 3"
    }
  },
  "cells": [
    {
      "cell_type": "markdown",
      "metadata": {
        "id": "view-in-github",
        "colab_type": "text"
      },
      "source": [
        "<a href=\"https://colab.research.google.com/github/chuck-y-lee/PracticalMachineLearning2019/blob/master/%5BLeetCode%5D%5BTree%5D%5B106_Construct_Binary_Tree_from_Inorder_and_Postorder_Traversal%5D.ipynb\" target=\"_parent\"><img src=\"https://colab.research.google.com/assets/colab-badge.svg\" alt=\"Open In Colab\"/></a>"
      ]
    },
    {
      "cell_type": "markdown",
      "metadata": {
        "id": "yAe7Rk1SZXeu",
        "colab_type": "text"
      },
      "source": [
        "# 106. Construct Binary Tree from Inorder and Postorder Traversal\n",
        "Given inorder and postorder traversal of a tree, construct the binary tree.\n",
        "\n",
        "Note:\n",
        "You may assume that duplicates do not exist in the tree.\n",
        "\n",
        "For example, given\n",
        "\n",
        "inorder = [9,3,15,20,7]\n",
        "postorder = [9,15,7,20,3]\n",
        "Return the following binary tree:\n",
        "<pre>\n",
        "    3\n",
        "   / \\\n",
        "  9  20\n",
        "    /  \\\n",
        "   15   7\n",
        "</pre>"
      ]
    },
    {
      "cell_type": "code",
      "metadata": {
        "id": "0NdPBISoe9kh",
        "colab_type": "code",
        "colab": {}
      },
      "source": [
        "from IPython.core.debugger import set_trace"
      ],
      "execution_count": 0,
      "outputs": []
    },
    {
      "cell_type": "code",
      "metadata": {
        "id": "ccJN4p8pRn07",
        "colab_type": "code",
        "colab": {}
      },
      "source": [
        "def treeNodeToString(root):\n",
        "    if not root:\n",
        "        return \"[]\"\n",
        "    output = \"\"\n",
        "    queue = [root]\n",
        "    current = 0\n",
        "    while current != len(queue):\n",
        "        node = queue[current]\n",
        "        current = current + 1\n",
        "\n",
        "        if not node:\n",
        "            output += \"null, \"\n",
        "            continue\n",
        "\n",
        "        output += str(node.val) + \", \"\n",
        "        queue.append(node.left)\n",
        "        queue.append(node.right)\n",
        "    return \"[\" + output[:-2] + \"]\"\n",
        "\n",
        "\n",
        "# Definition for a binary tree node.\n",
        "class TreeNode(object):\n",
        "     def __init__(self, x):\n",
        "         self.val = x\n",
        "         self.left = None\n",
        "         self.right = None\n",
        "         \n",
        "def pprint_tree(node, file=None, _prefix=\"\", _last=True,attr=''):\n",
        "    print(\"%s - %d(%s)\"%(_prefix,node.val,attr))\n",
        "    _prefix += \"   \"\n",
        "    if node.left:   \n",
        "        pprint_tree(node.left, file, _prefix, _last,'left')\n",
        "    if node.right:\n",
        "        pprint_tree(node.right, file, _prefix, _last,'right')\n",
        "\n",
        "def stringToTreeNode(input):\n",
        "    input = input.strip()\n",
        "    input = input[1:-1]\n",
        "    if not input:\n",
        "        return None\n",
        "\n",
        "    inputValues = [s.strip() for s in input.split(',')]\n",
        "    root = TreeNode(int(inputValues[0]))\n",
        "    nodeQueue = [root]\n",
        "    front = 0\n",
        "    index = 1\n",
        "    while index < len(inputValues):\n",
        "        node = nodeQueue[front]\n",
        "        front = front + 1\n",
        "\n",
        "        item = inputValues[index]\n",
        "        index = index + 1\n",
        "        if item != \"null\":\n",
        "            leftNumber = int(item)\n",
        "            node.left = TreeNode(leftNumber)\n",
        "            nodeQueue.append(node.left)\n",
        "\n",
        "        if index >= len(inputValues):\n",
        "            break\n",
        "\n",
        "        item = inputValues[index]\n",
        "        index = index + 1\n",
        "        if item != \"null\":\n",
        "            rightNumber = int(item)\n",
        "            node.right = TreeNode(rightNumber)\n",
        "            nodeQueue.append(node.right)\n",
        "    return root\n",
        "\n",
        "def prettyPrintTree(node, prefix=\"\", isLeft=True):\n",
        "    if not node:\n",
        "        print(\"Empty Tree\")\n",
        "        return\n",
        "\n",
        "    if node.right:\n",
        "        prettyPrintTree(node.right, prefix + (\"│   \" if isLeft else \"    \"), False)\n",
        "\n",
        "    print(prefix + (\"└── \" if isLeft else \"┌── \") + str(node.val))\n",
        "\n",
        "    if node.left:\n",
        "        prettyPrintTree(node.left, prefix + (\"    \" if isLeft else \"│   \"), True)\n"
      ],
      "execution_count": 0,
      "outputs": []
    },
    {
      "cell_type": "code",
      "metadata": {
        "id": "NcJXHKSnZ2s3",
        "colab_type": "code",
        "colab": {}
      },
      "source": [
        "class Solution:\n",
        "    def buildTree(self, inorder, postorder):\n",
        "        def _buildTree(inorder,postorder):\n",
        "            if not inorder:\n",
        "                return None\n",
        "            V = postorder[-1]\n",
        "            idx = inorder.index(V)\n",
        "            root = TreeNode(V)\n",
        "            root.left  = _buildTree(inorder[:idx],postorder[:idx])\n",
        "            root.right = _buildTree(inorder[idx+1:],postorder[idx:-1])\n",
        "            return root\n",
        "        \n",
        "        root = _buildTree(inorder,postorder)\n",
        "\n",
        "        return root"
      ],
      "execution_count": 0,
      "outputs": []
    },
    {
      "cell_type": "code",
      "metadata": {
        "id": "qqYiNBtrZwMH",
        "colab_type": "code",
        "colab": {}
      },
      "source": [
        "sol = Solution()"
      ],
      "execution_count": 0,
      "outputs": []
    },
    {
      "cell_type": "code",
      "metadata": {
        "id": "F5YQblUmR25l",
        "colab_type": "code",
        "colab": {}
      },
      "source": [
        "inorder = [\n",
        "[9,3,15,20,7],\n",
        "[1],\n",
        "[1,2],\n",
        "[2,1],\n",
        "[]\n",
        "]\n",
        "\n",
        "postorder = [\n",
        "  [9,15,7,20,3],    \n",
        "  [1],\n",
        "  [2,1],\n",
        "  [2,1],\n",
        "  []\n",
        "]\n",
        "\n",
        "cases = list(zip(inorder,postorder))"
      ],
      "execution_count": 0,
      "outputs": []
    },
    {
      "cell_type": "code",
      "metadata": {
        "id": "wLZ-Zw6uR-Xq",
        "colab_type": "code",
        "outputId": "95cdbf22-7696-4754-a180-de177dff610d",
        "colab": {
          "base_uri": "https://localhost:8080/",
          "height": 799
        }
      },
      "source": [
        "for inorder,postorder in cases:\n",
        "    print(inorder,postorder)\n",
        "    print('\\n')\n",
        "    root = sol.buildTree(inorder,postorder)\n",
        "    prettyPrintTree(root)\n",
        "    print('\\n\\n\\n')"
      ],
      "execution_count": 0,
      "outputs": [
        {
          "output_type": "stream",
          "text": [
            "[9, 3, 15, 20, 7] [9, 15, 7, 20, 3]\n",
            "\n",
            "\n",
            "│       ┌── 7\n",
            "│   ┌── 20\n",
            "│   │   └── 15\n",
            "└── 3\n",
            "    └── 9\n",
            "\n",
            "\n",
            "\n",
            "\n",
            "[1] [1]\n",
            "\n",
            "\n",
            "└── 1\n",
            "\n",
            "\n",
            "\n",
            "\n",
            "[1, 2] [2, 1]\n",
            "\n",
            "\n",
            "│   ┌── 2\n",
            "└── 1\n",
            "\n",
            "\n",
            "\n",
            "\n",
            "[2, 1] [2, 1]\n",
            "\n",
            "\n",
            "└── 1\n",
            "    └── 2\n",
            "\n",
            "\n",
            "\n",
            "\n",
            "[] []\n",
            "\n",
            "\n",
            "Empty Tree\n",
            "\n",
            "\n",
            "\n",
            "\n"
          ],
          "name": "stdout"
        }
      ]
    },
    {
      "cell_type": "code",
      "metadata": {
        "id": "3GjldKyNTMEi",
        "colab_type": "code",
        "colab": {}
      },
      "source": [
        "#%debug"
      ],
      "execution_count": 0,
      "outputs": []
    }
  ]
}